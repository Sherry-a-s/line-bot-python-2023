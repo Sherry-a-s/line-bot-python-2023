{
 "cells": [
  {
   "cell_type": "code",
   "execution_count": null,
   "id": "51c6c160",
   "metadata": {},
   "outputs": [],
   "source": [
    "%pip install line-bot-sdk"
   ]
  },
  {
   "cell_type": "code",
   "execution_count": null,
   "id": "8766fc70",
   "metadata": {},
   "outputs": [],
   "source": [
    "%pip install --upgrade line-bot-sdk"
   ]
  },
  {
   "cell_type": "code",
   "execution_count": null,
   "id": "d1633b55",
   "metadata": {},
   "outputs": [],
   "source": [
    "%pip install flask"
   ]
  },
  {
   "cell_type": "code",
   "execution_count": null,
   "id": "f4c14fc9",
   "metadata": {},
   "outputs": [],
   "source": [
    "from flask import Flask, request, abort\n",
    "\n",
    "from linebot import (\n",
    "    LineBotApi, WebhookHandler\n",
    ")\n",
    "from linebot.exceptions import (\n",
    "    InvalidSignatureError\n",
    ")\n",
    "from linebot.models import (\n",
    "    MessageEvent, TextMessage, TextSendMessage,\n",
    ")\n",
    "\n",
    "app = Flask(__name__)\n",
    "\n",
    "line_bot_api = LineBotApi('q+9kugORVniylpgPAY92EmLg25OPqZD9aILwffBRgzRPeP3M1xS5CM6KTt9m+nLJJUwTyF7wjc+UoJVSFi4RS3M4ldVUkMunLh3ltaEOqUy6TnjxZSl5iGc5bQncCbsjk+LtD3JRNKU7T0/7J2bKUAdB04t89/1O/w1cDnyilFU=')\n",
    "handler = WebhookHandler('9a63b71fa52c3a8633a185964380a6ee')\n",
    "line_bot_api.push_message('Ue8e4ec66ddda6a28397d880b4028484c', TextSendMessage(text='你可以開始了'))\n",
    "\n",
    "@app.route(\"/callback\", methods=['POST'])\n",
    "def callback():\n",
    "    # get X-Line-Signature header value\n",
    "    signature = request.headers['X-Line-Signature']\n",
    "\n",
    "    # get request body as text\n",
    "    body = request.get_data(as_text=True)\n",
    "    app.logger.info(\"Request body: \" + body)\n",
    "\n",
    "    # handle webhook body\n",
    "    try:\n",
    "        handler.handle(body, signature)\n",
    "    except InvalidSignatureError:\n",
    "        print(\"Invalid signature. Please check your channel access token/channel secret.\")\n",
    "        abort(400)\n",
    "\n",
    "    return 'OK'\n",
    "\n",
    "\n",
    "@handler.add(MessageEvent, message=TextMessage)\n",
    "def handle_message(event):\n",
    "    line_bot_api.reply_message(\n",
    "        event.reply_token,\n",
    "        TextSendMessage(text=event.message.text))\n",
    "\n",
    "\n",
    "if __name__ == \"__main__\":\n",
    "    app.run()"
   ]
  },
  {
   "cell_type": "code",
   "execution_count": null,
   "id": "7980a1aa",
   "metadata": {},
   "outputs": [],
   "source": [
    "from flask import Flask, request, abort\n",
    "\n",
    "from linebot import (\n",
    "    LineBotApi, WebhookHandler\n",
    ")\n",
    "from linebot.exceptions import (\n",
    "    InvalidSignatureError\n",
    ")\n",
    "from linebot.models import (\n",
    "    MessageEvent, TextMessage, TextSendMessage,\n",
    ")\n",
    "\n",
    "app = Flask(__name__)\n",
    "\n",
    "line_bot_api = LineBotApi('q+9kugORVniylpgPAY92EmLg25OPqZD9aILwffBRgzRPeP3M1xS5CM6KTt9m+nLJJUwTyF7wjc+UoJVSFi4RS3M4ldVUkMunLh3ltaEOqUy6TnjxZSl5iGc5bQncCbsjk+LtD3JRNKU7T0/7J2bKUAdB04t89/1O/w1cDnyilFU=')\n",
    "handler = WebhookHandler('9a63b71fa52c3a8633a185964380a6ee')\n",
    "\n",
    "\n",
    "@app.route(\"/callback\", methods=['POST'])\n",
    "def callback():\n",
    "    # get X-Line-Signature header value\n",
    "    signature = request.headers['X-Line-Signature']\n",
    "\n",
    "    # get request body as text\n",
    "    body = request.get_data(as_text=True)\n",
    "    app.logger.info(\"Request body: \" + body)\n",
    "\n",
    "    # handle webhook body\n",
    "    try:\n",
    "        handler.handle(body, signature)\n",
    "    except InvalidSignatureError:\n",
    "        print(\"Invalid signature. Please check your channel access token/channel secret.\")\n",
    "        abort(400)\n",
    "\n",
    "    return 'OK'\n",
    "\n",
    "\n",
    "@handler.add(MessageEvent, message=TextMessage)\n",
    "def handle_message(event):\n",
    "    messsage=text=event.message.text\n",
    "    if re.match('照片',message):\n",
    "        image_message = ImageSendMessage(\n",
    "            original_content_url='https://www.google.com/url?sa=i&url=https%3A%2F%2Fwww.truemii.com.tw%2Fcontent%2F20211022400967-990105&psig=AOvVaw1RZyEOZ9GyEhasbf_o0q6f&ust=1684457336534000&source=images&cd=vfe&ved=0CBEQjRxqFwoTCJjXttzS_f4CFQAAAAAdAAAAABAE')\n",
    "            line_bot_api.reply_message(event.reply_token, image_message)\n",
    "    else:\n",
    "        line_bot_api.reply_message(event.reply_token,TextSendMessage(text=event.message.text))\n",
    "\n",
    "\n",
    "if __name__ == \"__main__\":\n",
    "    app.run()"
   ]
  },
  {
   "cell_type": "code",
   "execution_count": null,
   "id": "404b400a",
   "metadata": {},
   "outputs": [],
   "source": [
    "#https://line-bot-python-flask-uol5.onrender.com/callback"
   ]
  }
 ],
 "metadata": {
  "kernelspec": {
   "display_name": "Python 3 (ipykernel)",
   "language": "python",
   "name": "python3"
  },
  "language_info": {
   "codemirror_mode": {
    "name": "ipython",
    "version": 3
   },
   "file_extension": ".py",
   "mimetype": "text/x-python",
   "name": "python",
   "nbconvert_exporter": "python",
   "pygments_lexer": "ipython3",
   "version": "3.9.12"
  }
 },
 "nbformat": 4,
 "nbformat_minor": 5
}
